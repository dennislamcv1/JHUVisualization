{
 "cells": [
  {
   "cell_type": "markdown",
   "id": "f0ff2a08",
   "metadata": {},
   "source": [
    "## Project Proposal: Exploring Marketing Dataset\n",
    "\n",
    "## Author: Dennis"
   ]
  },
  {
   "cell_type": "markdown",
   "id": "ad9bcfe7",
   "metadata": {},
   "source": [
    "## Project Topic"
   ]
  },
  {
   "cell_type": "markdown",
   "id": "989fed2f",
   "metadata": {},
   "source": [
    "What factors are significantly related to the number of web purchases?"
   ]
  },
  {
   "cell_type": "markdown",
   "id": "b7f01ee2",
   "metadata": {},
   "source": [
    "## Data Sources\n",
    "\n",
    "Marketing campaign data of 2,240 customers of Maven Marketing, including customer profiles, product preferences, campaign successes/failures, and channel performance.\n",
    "\n",
    "Source is from Jack Daoud, via Kaggle.\n",
    "\n",
    "Data is collected from online response. \n",
    "\n",
    "Data Link: https://www.mavenanalytics.io/data-playground"
   ]
  },
  {
   "cell_type": "markdown",
   "id": "99a9b83f",
   "metadata": {},
   "source": [
    "## Description of the Data\n",
    "\n",
    "Please provide specific details about your data.\n",
    "\n",
    "Dataset has 28 columns and 2240 rows. Data contains 2012 to 2014. It has customer identifier, household, amount spent on each item, purchases details, offer acceptance and customer responses."
   ]
  },
  {
   "cell_type": "markdown",
   "id": "a7e16154",
   "metadata": {},
   "source": [
    "## Ideas about the figures that you will create to visualize this data:\n",
    "\n",
    "Barplots, Countplots, Time Line Plots, Box Plots, Scatterplots are possible with this data."
   ]
  }
 ],
 "metadata": {
  "kernelspec": {
   "display_name": "Python 3",
   "language": "python",
   "name": "python3"
  },
  "language_info": {
   "codemirror_mode": {
    "name": "ipython",
    "version": 3
   },
   "file_extension": ".py",
   "mimetype": "text/x-python",
   "name": "python",
   "nbconvert_exporter": "python",
   "pygments_lexer": "ipython3",
   "version": "3.8.8"
  }
 },
 "nbformat": 4,
 "nbformat_minor": 5
}
